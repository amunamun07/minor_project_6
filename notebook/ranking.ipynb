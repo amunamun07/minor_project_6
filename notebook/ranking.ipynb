{
  "nbformat": 4,
  "nbformat_minor": 0,
  "metadata": {
    "accelerator": "GPU",
    "colab": {
      "name": "ranking.ipynb",
      "provenance": [],
      "collapsed_sections": []
    },
    "kernelspec": {
      "display_name": "Python 3",
      "name": "python3"
    },
    "language_info": {
      "name": "python"
    }
  },
  "cells": [
    {
      "cell_type": "markdown",
      "metadata": {
        "id": "d5UAUTLboBCA"
      },
      "source": [
        "# **Ranking Using Sentence Transformer**"
      ]
    },
    {
      "cell_type": "markdown",
      "metadata": {
        "id": "5yCdM2-yoMFP"
      },
      "source": [
        "**The objective for this project is to create a ranking of wines based on similarity scores and recommend user their 15 ideal choices of wines.**"
      ]
    },
    {
      "cell_type": "markdown",
      "metadata": {
        "id": "aI98O_FFsLpl"
      },
      "source": [
        "If you are using jupyter notebook. Use **!pipenv shell** to install all necessary packages."
      ]
    },
    {
      "cell_type": "markdown",
      "metadata": {
        "id": "ic0RfgLG1M_D"
      },
      "source": [
        "If you are on colab(which is recommended)\n",
        "You can set the hardware accelerator, it will speed up the operations.\n",
        "1. **Edit > Notebook Setting > GPU**\n",
        "2. Insert a code cell below and run these commands before beginning:\n",
        "\n",
        "  a. !pip install sentence_transformers\n",
        "  \n",
        "  b. !pip install nmslib"
      ]
    },
    {
      "cell_type": "markdown",
      "metadata": {
        "id": "NJB82KGnYEke"
      },
      "source": [
        "## **1. Import the necessary**"
      ]
    },
    {
      "cell_type": "code",
      "metadata": {
        "id": "iTHo7WV22F_r"
      },
      "source": [
        "import numpy as np\n",
        "import pandas as pd\n",
        "from sentence_transformers import SentenceTransformer, util\n",
        "import nmslib\n",
        "import torch"
      ],
      "execution_count": 44,
      "outputs": []
    },
    {
      "cell_type": "markdown",
      "metadata": {
        "id": "rdSkpsLNwJF4"
      },
      "source": [
        "## **2. Define Necessary Variables**"
      ]
    },
    {
      "cell_type": "code",
      "metadata": {
        "id": "EPsrKQ8VwQ7i"
      },
      "source": [
        "dataset_path = 'dataset/wine_dataset.csv'\n",
        "user_query = \"firm, bitter wine with richness in texture.\"\n",
        "model_name = 'distilbert-base-uncased'"
      ],
      "execution_count": 45,
      "outputs": []
    },
    {
      "cell_type": "markdown",
      "metadata": {
        "id": "DrZty90nZart"
      },
      "source": [
        "## **3. Load the dataset**"
      ]
    },
    {
      "cell_type": "markdown",
      "metadata": {
        "id": "uu7u5R7SZh-Z"
      },
      "source": [
        "I am taking the wine review dataset. The dataset contains around 20000 rows of data with various columns. We will be using only the columns that we need like country, description, title, variety, winery, price, and rating.\n",
        "\n",
        "Dataset download link: https://drive.google.com/drive/folders/15tRf8lO3x22BgUTb90S7rGjlN-FhGBSx?usp=sharing\n",
        "\n",
        "I took the dataset with 130000 datas and deleted 110000 data for this project."
      ]
    },
    {
      "cell_type": "code",
      "metadata": {
        "id": "LH2zLMHWZhKd",
        "colab": {
          "base_uri": "https://localhost:8080/",
          "height": 213
        },
        "outputId": "c8c231c9-f561-4ac5-8a4a-e7e4b5d967d3"
      },
      "source": [
        "df = pd.read_csv(dataset_path, sep=',', engine='python', quotechar='\"', error_bad_lines=False)\n",
        "df.head(2)"
      ],
      "execution_count": 46,
      "outputs": [
        {
          "output_type": "execute_result",
          "data": {
            "text/html": [
              "<div>\n",
              "<style scoped>\n",
              "    .dataframe tbody tr th:only-of-type {\n",
              "        vertical-align: middle;\n",
              "    }\n",
              "\n",
              "    .dataframe tbody tr th {\n",
              "        vertical-align: top;\n",
              "    }\n",
              "\n",
              "    .dataframe thead th {\n",
              "        text-align: right;\n",
              "    }\n",
              "</style>\n",
              "<table border=\"1\" class=\"dataframe\">\n",
              "  <thead>\n",
              "    <tr style=\"text-align: right;\">\n",
              "      <th></th>\n",
              "      <th>Unnamed: 0</th>\n",
              "      <th>country</th>\n",
              "      <th>description</th>\n",
              "      <th>designation</th>\n",
              "      <th>points</th>\n",
              "      <th>price</th>\n",
              "      <th>province</th>\n",
              "      <th>region_1</th>\n",
              "      <th>region_2</th>\n",
              "      <th>taster_name</th>\n",
              "      <th>taster_twitter_handle</th>\n",
              "      <th>title</th>\n",
              "      <th>variety</th>\n",
              "      <th>winery</th>\n",
              "      <th>Unnamed: 14</th>\n",
              "      <th>Unnamed: 15</th>\n",
              "      <th>Unnamed: 16</th>\n",
              "      <th>Unnamed: 17</th>\n",
              "    </tr>\n",
              "  </thead>\n",
              "  <tbody>\n",
              "    <tr>\n",
              "      <th>0</th>\n",
              "      <td>0</td>\n",
              "      <td>Italy</td>\n",
              "      <td>Aromas include tropical fruit, broom, brimston...</td>\n",
              "      <td>Vulkà Bianco</td>\n",
              "      <td>87</td>\n",
              "      <td>NaN</td>\n",
              "      <td>Sicily &amp; Sardinia</td>\n",
              "      <td>Etna</td>\n",
              "      <td>NaN</td>\n",
              "      <td>Kerin O’Keefe</td>\n",
              "      <td>@kerinokeefe</td>\n",
              "      <td>Nicosia 2013 Vulkà Bianco  (Etna)</td>\n",
              "      <td>White Blend</td>\n",
              "      <td>Nicosia</td>\n",
              "      <td>NaN</td>\n",
              "      <td>NaN</td>\n",
              "      <td>NaN</td>\n",
              "      <td>NaN</td>\n",
              "    </tr>\n",
              "    <tr>\n",
              "      <th>1</th>\n",
              "      <td>1</td>\n",
              "      <td>Portugal</td>\n",
              "      <td>This is ripe and fruity, a wine that is smooth...</td>\n",
              "      <td>Avidagos</td>\n",
              "      <td>87</td>\n",
              "      <td>15</td>\n",
              "      <td>Douro</td>\n",
              "      <td>NaN</td>\n",
              "      <td>NaN</td>\n",
              "      <td>Roger Voss</td>\n",
              "      <td>@vossroger</td>\n",
              "      <td>Quinta dos Avidagos 2011 Avidagos Red (Douro)</td>\n",
              "      <td>Portuguese Red</td>\n",
              "      <td>Quinta dos Avidagos</td>\n",
              "      <td>NaN</td>\n",
              "      <td>NaN</td>\n",
              "      <td>NaN</td>\n",
              "      <td>NaN</td>\n",
              "    </tr>\n",
              "  </tbody>\n",
              "</table>\n",
              "</div>"
            ],
            "text/plain": [
              "   Unnamed: 0   country  ... Unnamed: 16 Unnamed: 17\n",
              "0           0     Italy  ...         NaN         NaN\n",
              "1           1  Portugal  ...         NaN         NaN\n",
              "\n",
              "[2 rows x 18 columns]"
            ]
          },
          "metadata": {},
          "execution_count": 46
        }
      ]
    },
    {
      "cell_type": "markdown",
      "metadata": {
        "id": "8-DufFQ_dmlG"
      },
      "source": [
        "Out of all these columns of data. We will be considering just the **description** column for generating word embeddings."
      ]
    },
    {
      "cell_type": "code",
      "metadata": {
        "id": "abw2LnGhdUYs"
      },
      "source": [
        "df.drop(df.columns.difference(['description']), axis=1, inplace=True)"
      ],
      "execution_count": 47,
      "outputs": []
    },
    {
      "cell_type": "code",
      "metadata": {
        "id": "B40uN61bdzh6",
        "colab": {
          "base_uri": "https://localhost:8080/",
          "height": 204
        },
        "outputId": "a0fdca26-3a97-4b7f-a409-db03b4b021e3"
      },
      "source": [
        "df.head()"
      ],
      "execution_count": 48,
      "outputs": [
        {
          "output_type": "execute_result",
          "data": {
            "text/html": [
              "<div>\n",
              "<style scoped>\n",
              "    .dataframe tbody tr th:only-of-type {\n",
              "        vertical-align: middle;\n",
              "    }\n",
              "\n",
              "    .dataframe tbody tr th {\n",
              "        vertical-align: top;\n",
              "    }\n",
              "\n",
              "    .dataframe thead th {\n",
              "        text-align: right;\n",
              "    }\n",
              "</style>\n",
              "<table border=\"1\" class=\"dataframe\">\n",
              "  <thead>\n",
              "    <tr style=\"text-align: right;\">\n",
              "      <th></th>\n",
              "      <th>description</th>\n",
              "    </tr>\n",
              "  </thead>\n",
              "  <tbody>\n",
              "    <tr>\n",
              "      <th>0</th>\n",
              "      <td>Aromas include tropical fruit, broom, brimston...</td>\n",
              "    </tr>\n",
              "    <tr>\n",
              "      <th>1</th>\n",
              "      <td>This is ripe and fruity, a wine that is smooth...</td>\n",
              "    </tr>\n",
              "    <tr>\n",
              "      <th>2</th>\n",
              "      <td>Tart and snappy, the flavors of lime flesh and...</td>\n",
              "    </tr>\n",
              "    <tr>\n",
              "      <th>3</th>\n",
              "      <td>Pineapple rind, lemon pith and orange blossom ...</td>\n",
              "    </tr>\n",
              "    <tr>\n",
              "      <th>4</th>\n",
              "      <td>Much like the regular bottling from 2012, this...</td>\n",
              "    </tr>\n",
              "  </tbody>\n",
              "</table>\n",
              "</div>"
            ],
            "text/plain": [
              "                                         description\n",
              "0  Aromas include tropical fruit, broom, brimston...\n",
              "1  This is ripe and fruity, a wine that is smooth...\n",
              "2  Tart and snappy, the flavors of lime flesh and...\n",
              "3  Pineapple rind, lemon pith and orange blossom ...\n",
              "4  Much like the regular bottling from 2012, this..."
            ]
          },
          "metadata": {},
          "execution_count": 48
        }
      ]
    },
    {
      "cell_type": "markdown",
      "metadata": {
        "id": "AvIdrNFod1u-"
      },
      "source": [
        "## **4. Create Embeddings**"
      ]
    },
    {
      "cell_type": "markdown",
      "metadata": {
        "id": "yLIYgS21z2oM"
      },
      "source": [
        "For Generating the embeddings from description we will be using Sentence Transformer and passing the pretrained distilbert model.\n",
        "Sentence Transformer is  a State-of-the-art for sentence, text and image embeddings."
      ]
    },
    {
      "cell_type": "code",
      "metadata": {
        "id": "TItoFTnaeIo5",
        "colab": {
          "base_uri": "https://localhost:8080/"
        },
        "outputId": "397fe8ee-a0fa-4d14-d427-19560d8ad53f"
      },
      "source": [
        "distilbert = SentenceTransformer(model_name)"
      ],
      "execution_count": 49,
      "outputs": [
        {
          "output_type": "stream",
          "text": [
            "WARNING:root:No sentence-transformers model found with name /root/.cache/torch/sentence_transformers/distilbert-base-uncased. Creating a new one with MEAN pooling.\n",
            "Some weights of the model checkpoint at /root/.cache/torch/sentence_transformers/distilbert-base-uncased were not used when initializing DistilBertModel: ['vocab_transform.weight', 'vocab_layer_norm.bias', 'vocab_transform.bias', 'vocab_layer_norm.weight', 'vocab_projector.weight', 'vocab_projector.bias']\n",
            "- This IS expected if you are initializing DistilBertModel from the checkpoint of a model trained on another task or with another architecture (e.g. initializing a BertForSequenceClassification model from a BertForPreTraining model).\n",
            "- This IS NOT expected if you are initializing DistilBertModel from the checkpoint of a model that you expect to be exactly identical (initializing a BertForSequenceClassification model from a BertForSequenceClassification model).\n"
          ],
          "name": "stderr"
        }
      ]
    },
    {
      "cell_type": "markdown",
      "metadata": {
        "id": "K0N9KRXE1YAN"
      },
      "source": [
        "DistilBERT is a transformers model that is smaller and faster than BERT, it was pretrained by self-supervised way on the same corpus with the BERT base model as a teacher.\n",
        "\n",
        "More about 'distilbert-base-uncased' on here: https://huggingface.co/distilbert-base-uncased\n"
      ]
    },
    {
      "cell_type": "code",
      "metadata": {
        "id": "aViprF1IeSSq"
      },
      "source": [
        "embeddings = distilbert.encode(df['description'], convert_to_tensor=True).cpu().numpy()"
      ],
      "execution_count": 50,
      "outputs": []
    },
    {
      "cell_type": "markdown",
      "metadata": {
        "id": "YV3gJTD94iwx"
      },
      "source": [
        "We encoded the description and converted all those to tensors. Now let us look at how many embeddings were formed and also lets add these to one of the column."
      ]
    },
    {
      "cell_type": "code",
      "metadata": {
        "id": "gNParGQMe0Fl",
        "colab": {
          "base_uri": "https://localhost:8080/"
        },
        "outputId": "7b5b7a9d-e273-487f-c95b-a58c03e95055"
      },
      "source": [
        "print(\"Total length of one embedding:\" + str(len(embeddings[0])))"
      ],
      "execution_count": 51,
      "outputs": [
        {
          "output_type": "stream",
          "text": [
            "Total length of one embedding:768\n"
          ],
          "name": "stdout"
        }
      ]
    },
    {
      "cell_type": "code",
      "metadata": {
        "colab": {
          "base_uri": "https://localhost:8080/",
          "height": 204
        },
        "id": "FRKN0Jvaxl-3",
        "outputId": "5af36bb7-59c8-42b3-a9b0-9160fd736a24"
      },
      "source": [
        "df['embeddings'] = torch.Tensor(embeddings).tolist()\n",
        "df.head()"
      ],
      "execution_count": 52,
      "outputs": [
        {
          "output_type": "execute_result",
          "data": {
            "text/html": [
              "<div>\n",
              "<style scoped>\n",
              "    .dataframe tbody tr th:only-of-type {\n",
              "        vertical-align: middle;\n",
              "    }\n",
              "\n",
              "    .dataframe tbody tr th {\n",
              "        vertical-align: top;\n",
              "    }\n",
              "\n",
              "    .dataframe thead th {\n",
              "        text-align: right;\n",
              "    }\n",
              "</style>\n",
              "<table border=\"1\" class=\"dataframe\">\n",
              "  <thead>\n",
              "    <tr style=\"text-align: right;\">\n",
              "      <th></th>\n",
              "      <th>description</th>\n",
              "      <th>embeddings</th>\n",
              "    </tr>\n",
              "  </thead>\n",
              "  <tbody>\n",
              "    <tr>\n",
              "      <th>0</th>\n",
              "      <td>Aromas include tropical fruit, broom, brimston...</td>\n",
              "      <td>[-0.3061617612838745, 0.22339025139808655, 0.0...</td>\n",
              "    </tr>\n",
              "    <tr>\n",
              "      <th>1</th>\n",
              "      <td>This is ripe and fruity, a wine that is smooth...</td>\n",
              "      <td>[-0.37820613384246826, -0.1644999235868454, 0....</td>\n",
              "    </tr>\n",
              "    <tr>\n",
              "      <th>2</th>\n",
              "      <td>Tart and snappy, the flavors of lime flesh and...</td>\n",
              "      <td>[-0.217906653881073, -0.0607813261449337, 0.02...</td>\n",
              "    </tr>\n",
              "    <tr>\n",
              "      <th>3</th>\n",
              "      <td>Pineapple rind, lemon pith and orange blossom ...</td>\n",
              "      <td>[-0.2283596694469452, 0.021180907264351845, 0....</td>\n",
              "    </tr>\n",
              "    <tr>\n",
              "      <th>4</th>\n",
              "      <td>Much like the regular bottling from 2012, this...</td>\n",
              "      <td>[-0.36137744784355164, -0.02509395033121109, 0...</td>\n",
              "    </tr>\n",
              "  </tbody>\n",
              "</table>\n",
              "</div>"
            ],
            "text/plain": [
              "                                         description                                         embeddings\n",
              "0  Aromas include tropical fruit, broom, brimston...  [-0.3061617612838745, 0.22339025139808655, 0.0...\n",
              "1  This is ripe and fruity, a wine that is smooth...  [-0.37820613384246826, -0.1644999235868454, 0....\n",
              "2  Tart and snappy, the flavors of lime flesh and...  [-0.217906653881073, -0.0607813261449337, 0.02...\n",
              "3  Pineapple rind, lemon pith and orange blossom ...  [-0.2283596694469452, 0.021180907264351845, 0....\n",
              "4  Much like the regular bottling from 2012, this...  [-0.36137744784355164, -0.02509395033121109, 0..."
            ]
          },
          "metadata": {},
          "execution_count": 52
        }
      ]
    },
    {
      "cell_type": "markdown",
      "metadata": {
        "id": "2gOiZ1WX5KYj"
      },
      "source": [
        "## **5. Create Search Index**"
      ]
    },
    {
      "cell_type": "markdown",
      "metadata": {
        "id": "-y4Bfur_7GCB"
      },
      "source": [
        "This section is a very important section. I will use a library known as **nmslib** that stands for *Non-metric space library*. \n",
        "\n",
        "**nmslib** provides a fast similarity search. \n",
        "- The search is done in the dataframe/database we provide. \n",
        "- To search it **uses the data points and a dissimilarity measure(distance function)**, that is provided.\n",
        "- The combination of data points and the distance is called the **search space**.\n",
        "\n",
        "In short, there is a search space. Search space has all the data points. The datapoints searches its neighbouring datapoints for similarity. "
      ]
    },
    {
      "cell_type": "code",
      "metadata": {
        "id": "rt1-ZtoSx0Al"
      },
      "source": [
        "embeddings_index = nmslib.init(method='hnsw', space='cosinesimil')"
      ],
      "execution_count": 53,
      "outputs": []
    },
    {
      "cell_type": "markdown",
      "metadata": {
        "id": "1j87ICk2_GPP"
      },
      "source": [
        "We initialize the nmslib by passing:\n",
        "\n",
        "**method=hnsw** : Various methods have been coming since years, the most popular one is the hnsw (a Hierarchical Navigable Small World Graph.)\n",
        "\n",
        "**space=cosinesimil** : This is the parameter that defines various distances. For our usecase we can use CosineSimilarity or Euclidean Distance."
      ]
    },
    {
      "cell_type": "code",
      "metadata": {
        "id": "2CqwwIvG2BfV"
      },
      "source": [
        "embeddings_index.addDataPointBatch(embeddings)\n",
        "embeddings_index.createIndex({'post': 2}, print_progress=True)"
      ],
      "execution_count": 54,
      "outputs": []
    },
    {
      "cell_type": "markdown",
      "metadata": {
        "id": "xKEmS6tkB5At"
      },
      "source": [
        "We then add the embeddings and create indexes for the embeddings."
      ]
    },
    {
      "cell_type": "markdown",
      "metadata": {
        "id": "MbwWrSiKNhLf"
      },
      "source": [
        "## **6. Rank Wines**"
      ]
    },
    {
      "cell_type": "markdown",
      "metadata": {
        "id": "ZkoSaLJXWdGk"
      },
      "source": [
        "Now we encode the query from the user and and check the nearest 500 indexes"
      ]
    },
    {
      "cell_type": "code",
      "metadata": {
        "id": "X4Cz3i9IEIIK"
      },
      "source": [
        "def rank_wine_based_on_distance(query):\n",
        "  df_dataset = pd.read_csv('wine_dataset.csv', sep=',', engine='python', quotechar='\"', error_bad_lines=False)\n",
        "  closest_datapoints_to_check = 500\n",
        "  query = distilbert.encode([query], convert_to_tensor=True).cpu().numpy()\n",
        "  ids, distances = embeddings_index.knnQuery(query, k=closest_datapoints_to_check)\n",
        "  matches = []\n",
        "  for i, j in zip(ids, distances):\n",
        "      matches.append({'country':df_dataset.country.values[i]\n",
        "                    , 'winery' : df_dataset.winery.values[i]\n",
        "                    , 'variety': df_dataset.variety.values[i]\n",
        "                    , 'price': df_dataset.price.values[i]\n",
        "                    , 'similarity': j\n",
        "                    })\n",
        "  return pd.DataFrame(matches)"
      ],
      "execution_count": 55,
      "outputs": []
    },
    {
      "cell_type": "code",
      "metadata": {
        "id": "H_CJi6V2OP-4",
        "colab": {
          "base_uri": "https://localhost:8080/",
          "height": 204
        },
        "outputId": "1ff508c6-f1ac-48e9-e5ad-1e88b3f0c042"
      },
      "source": [
        "df_rank = rank_wine_based_on_distance(user_query)\n",
        "df_rank.head()"
      ],
      "execution_count": 56,
      "outputs": [
        {
          "output_type": "execute_result",
          "data": {
            "text/html": [
              "<div>\n",
              "<style scoped>\n",
              "    .dataframe tbody tr th:only-of-type {\n",
              "        vertical-align: middle;\n",
              "    }\n",
              "\n",
              "    .dataframe tbody tr th {\n",
              "        vertical-align: top;\n",
              "    }\n",
              "\n",
              "    .dataframe thead th {\n",
              "        text-align: right;\n",
              "    }\n",
              "</style>\n",
              "<table border=\"1\" class=\"dataframe\">\n",
              "  <thead>\n",
              "    <tr style=\"text-align: right;\">\n",
              "      <th></th>\n",
              "      <th>country</th>\n",
              "      <th>winery</th>\n",
              "      <th>variety</th>\n",
              "      <th>price</th>\n",
              "      <th>similarity</th>\n",
              "    </tr>\n",
              "  </thead>\n",
              "  <tbody>\n",
              "    <tr>\n",
              "      <th>0</th>\n",
              "      <td>US</td>\n",
              "      <td>Sobon Estate</td>\n",
              "      <td>Zinfandel</td>\n",
              "      <td>15</td>\n",
              "      <td>0.053573</td>\n",
              "    </tr>\n",
              "    <tr>\n",
              "      <th>1</th>\n",
              "      <td>France</td>\n",
              "      <td>Domaine Barraud</td>\n",
              "      <td>Chardonnay</td>\n",
              "      <td>28</td>\n",
              "      <td>0.064184</td>\n",
              "    </tr>\n",
              "    <tr>\n",
              "      <th>2</th>\n",
              "      <td>Austria</td>\n",
              "      <td>Bründlmayer</td>\n",
              "      <td>Sparkling Blend</td>\n",
              "      <td>44</td>\n",
              "      <td>0.064605</td>\n",
              "    </tr>\n",
              "    <tr>\n",
              "      <th>3</th>\n",
              "      <td>Portugal</td>\n",
              "      <td>Borges</td>\n",
              "      <td>Portuguese White</td>\n",
              "      <td>9</td>\n",
              "      <td>0.064635</td>\n",
              "    </tr>\n",
              "    <tr>\n",
              "      <th>4</th>\n",
              "      <td>Austria</td>\n",
              "      <td>Pratsch</td>\n",
              "      <td>Grüner Veltliner</td>\n",
              "      <td>22</td>\n",
              "      <td>0.065314</td>\n",
              "    </tr>\n",
              "  </tbody>\n",
              "</table>\n",
              "</div>"
            ],
            "text/plain": [
              "    country           winery           variety price  similarity\n",
              "0        US     Sobon Estate         Zinfandel    15    0.053573\n",
              "1    France  Domaine Barraud        Chardonnay    28    0.064184\n",
              "2   Austria      Bründlmayer   Sparkling Blend    44    0.064605\n",
              "3  Portugal           Borges  Portuguese White     9    0.064635\n",
              "4   Austria          Pratsch  Grüner Veltliner    22    0.065314"
            ]
          },
          "metadata": {},
          "execution_count": 56
        }
      ]
    },
    {
      "cell_type": "markdown",
      "metadata": {
        "id": "hOGUEmd6OHNa"
      },
      "source": [
        "## **7. Recommend User**"
      ]
    },
    {
      "cell_type": "markdown",
      "metadata": {
        "id": "YCvxjFpeOX8f"
      },
      "source": [
        "We can see that the df_rank dataframe gives all the ranking in ascending order. Now, let us recommend user the top 15 wines based on the description he/she has provided earlier as user_query"
      ]
    },
    {
      "cell_type": "code",
      "metadata": {
        "id": "ZkMTEGq4K-V9",
        "colab": {
          "base_uri": "https://localhost:8080/",
          "height": 514
        },
        "outputId": "02482465-b65c-440c-86fb-5cb167e0cd2f"
      },
      "source": [
        "df_rank.nlargest(15, 'similarity')"
      ],
      "execution_count": 57,
      "outputs": [
        {
          "output_type": "execute_result",
          "data": {
            "text/html": [
              "<div>\n",
              "<style scoped>\n",
              "    .dataframe tbody tr th:only-of-type {\n",
              "        vertical-align: middle;\n",
              "    }\n",
              "\n",
              "    .dataframe tbody tr th {\n",
              "        vertical-align: top;\n",
              "    }\n",
              "\n",
              "    .dataframe thead th {\n",
              "        text-align: right;\n",
              "    }\n",
              "</style>\n",
              "<table border=\"1\" class=\"dataframe\">\n",
              "  <thead>\n",
              "    <tr style=\"text-align: right;\">\n",
              "      <th></th>\n",
              "      <th>country</th>\n",
              "      <th>winery</th>\n",
              "      <th>variety</th>\n",
              "      <th>price</th>\n",
              "      <th>similarity</th>\n",
              "    </tr>\n",
              "  </thead>\n",
              "  <tbody>\n",
              "    <tr>\n",
              "      <th>361</th>\n",
              "      <td>France</td>\n",
              "      <td>Louis Jadot</td>\n",
              "      <td>Chardonnay</td>\n",
              "      <td>15</td>\n",
              "      <td>0.106212</td>\n",
              "    </tr>\n",
              "    <tr>\n",
              "      <th>360</th>\n",
              "      <td>US</td>\n",
              "      <td>Naches Heights</td>\n",
              "      <td>Pinot Gris</td>\n",
              "      <td>16</td>\n",
              "      <td>0.106149</td>\n",
              "    </tr>\n",
              "    <tr>\n",
              "      <th>359</th>\n",
              "      <td>France</td>\n",
              "      <td>L. Tramier &amp; Fils</td>\n",
              "      <td>Pinot Noir</td>\n",
              "      <td>120</td>\n",
              "      <td>0.105992</td>\n",
              "    </tr>\n",
              "    <tr>\n",
              "      <th>358</th>\n",
              "      <td>France</td>\n",
              "      <td>Cave de Lugny</td>\n",
              "      <td>Chardonnay</td>\n",
              "      <td>NaN</td>\n",
              "      <td>0.105934</td>\n",
              "    </tr>\n",
              "    <tr>\n",
              "      <th>357</th>\n",
              "      <td>France</td>\n",
              "      <td>Cave de Viré</td>\n",
              "      <td>Chardonnay</td>\n",
              "      <td>15</td>\n",
              "      <td>0.105651</td>\n",
              "    </tr>\n",
              "    <tr>\n",
              "      <th>356</th>\n",
              "      <td>France</td>\n",
              "      <td>Famille Laplace</td>\n",
              "      <td>Tannat-Syrah</td>\n",
              "      <td>10</td>\n",
              "      <td>0.105650</td>\n",
              "    </tr>\n",
              "    <tr>\n",
              "      <th>355</th>\n",
              "      <td>France</td>\n",
              "      <td>Charles Clément</td>\n",
              "      <td>Champagne Blend</td>\n",
              "      <td>30</td>\n",
              "      <td>0.105639</td>\n",
              "    </tr>\n",
              "    <tr>\n",
              "      <th>354</th>\n",
              "      <td>France</td>\n",
              "      <td>Famille Laplace</td>\n",
              "      <td>Tannat-Syrah</td>\n",
              "      <td>10</td>\n",
              "      <td>0.105635</td>\n",
              "    </tr>\n",
              "    <tr>\n",
              "      <th>353</th>\n",
              "      <td>France</td>\n",
              "      <td>Henri de Villamont</td>\n",
              "      <td>Pinot Noir</td>\n",
              "      <td>NaN</td>\n",
              "      <td>0.105146</td>\n",
              "    </tr>\n",
              "    <tr>\n",
              "      <th>352</th>\n",
              "      <td>Portugal</td>\n",
              "      <td>Quinta da Alorna</td>\n",
              "      <td>Portuguese White</td>\n",
              "      <td>15</td>\n",
              "      <td>0.104970</td>\n",
              "    </tr>\n",
              "    <tr>\n",
              "      <th>351</th>\n",
              "      <td>US</td>\n",
              "      <td>Watermill</td>\n",
              "      <td>Tempranillo</td>\n",
              "      <td>36</td>\n",
              "      <td>0.104900</td>\n",
              "    </tr>\n",
              "    <tr>\n",
              "      <th>350</th>\n",
              "      <td>France</td>\n",
              "      <td>Bougrier</td>\n",
              "      <td>Sauvignon Blanc</td>\n",
              "      <td>14</td>\n",
              "      <td>0.104899</td>\n",
              "    </tr>\n",
              "    <tr>\n",
              "      <th>349</th>\n",
              "      <td>France</td>\n",
              "      <td>Louis Latour</td>\n",
              "      <td>Pinot Noir</td>\n",
              "      <td>25</td>\n",
              "      <td>0.104776</td>\n",
              "    </tr>\n",
              "    <tr>\n",
              "      <th>348</th>\n",
              "      <td>Argentina</td>\n",
              "      <td>Ricardo Santos</td>\n",
              "      <td>Cabernet Sauvignon</td>\n",
              "      <td>16</td>\n",
              "      <td>0.104724</td>\n",
              "    </tr>\n",
              "    <tr>\n",
              "      <th>347</th>\n",
              "      <td>France</td>\n",
              "      <td>Château Belgrave</td>\n",
              "      <td>Bordeaux-style Red Blend</td>\n",
              "      <td>23</td>\n",
              "      <td>0.104416</td>\n",
              "    </tr>\n",
              "  </tbody>\n",
              "</table>\n",
              "</div>"
            ],
            "text/plain": [
              "       country              winery                   variety price  similarity\n",
              "361     France         Louis Jadot                Chardonnay    15    0.106212\n",
              "360         US      Naches Heights                Pinot Gris    16    0.106149\n",
              "359     France   L. Tramier & Fils                Pinot Noir   120    0.105992\n",
              "358     France       Cave de Lugny                Chardonnay   NaN    0.105934\n",
              "357     France        Cave de Viré                Chardonnay    15    0.105651\n",
              "356     France     Famille Laplace              Tannat-Syrah    10    0.105650\n",
              "355     France     Charles Clément           Champagne Blend    30    0.105639\n",
              "354     France     Famille Laplace              Tannat-Syrah    10    0.105635\n",
              "353     France  Henri de Villamont                Pinot Noir   NaN    0.105146\n",
              "352   Portugal    Quinta da Alorna          Portuguese White    15    0.104970\n",
              "351         US           Watermill               Tempranillo    36    0.104900\n",
              "350     France            Bougrier           Sauvignon Blanc    14    0.104899\n",
              "349     France        Louis Latour                Pinot Noir    25    0.104776\n",
              "348  Argentina      Ricardo Santos        Cabernet Sauvignon    16    0.104724\n",
              "347     France    Château Belgrave  Bordeaux-style Red Blend    23    0.104416"
            ]
          },
          "metadata": {},
          "execution_count": 57
        }
      ]
    }
  ]
}